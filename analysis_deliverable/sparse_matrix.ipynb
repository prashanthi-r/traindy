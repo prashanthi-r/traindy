{
  "cells": [
    {
      "cell_type": "code",
      "execution_count": null,
      "metadata": {
        "id": "dfX26LhP_xC_"
      },
      "outputs": [],
      "source": [
        "import numpy as np \n",
        "import tensorflow as tf\n",
        "import scipy\n",
        "from scipy import sparse\n",
        "import pickle\n"
      ]
    },
    {
      "cell_type": "code",
      "source": [
        "from google.colab import drive\n",
        "drive.mount('/content/drive')"
      ],
      "metadata": {
        "colab": {
          "base_uri": "https://localhost:8080/"
        },
        "id": "XsjPnsb1TT8p",
        "outputId": "67967b02-85b0-4c93-d194-882634e7e49b"
      },
      "execution_count": null,
      "outputs": [
        {
          "output_type": "stream",
          "name": "stdout",
          "text": [
            "Mounted at /content/drive\n"
          ]
        }
      ]
    },
    {
      "cell_type": "code",
      "source": [
        "!pip3 install pickle5\n",
        "import pickle5 as pickle"
      ],
      "metadata": {
        "colab": {
          "base_uri": "https://localhost:8080/"
        },
        "id": "c2q9qPdakCMN",
        "outputId": "b8e641d9-d6f3-4769-a4e8-e4bd2b9322f1"
      },
      "execution_count": null,
      "outputs": [
        {
          "output_type": "stream",
          "name": "stdout",
          "text": [
            "Collecting pickle5\n",
            "  Downloading pickle5-0.0.12-cp37-cp37m-manylinux_2_5_x86_64.manylinux1_x86_64.whl (256 kB)\n",
            "\u001b[?25l\r\u001b[K     |█▎                              | 10 kB 28.1 MB/s eta 0:00:01\r\u001b[K     |██▋                             | 20 kB 20.5 MB/s eta 0:00:01\r\u001b[K     |███▉                            | 30 kB 10.7 MB/s eta 0:00:01\r\u001b[K     |█████▏                          | 40 kB 4.3 MB/s eta 0:00:01\r\u001b[K     |██████▍                         | 51 kB 4.4 MB/s eta 0:00:01\r\u001b[K     |███████▊                        | 61 kB 5.2 MB/s eta 0:00:01\r\u001b[K     |█████████                       | 71 kB 5.2 MB/s eta 0:00:01\r\u001b[K     |██████████▎                     | 81 kB 5.4 MB/s eta 0:00:01\r\u001b[K     |███████████▌                    | 92 kB 6.1 MB/s eta 0:00:01\r\u001b[K     |████████████▉                   | 102 kB 5.0 MB/s eta 0:00:01\r\u001b[K     |██████████████                  | 112 kB 5.0 MB/s eta 0:00:01\r\u001b[K     |███████████████▍                | 122 kB 5.0 MB/s eta 0:00:01\r\u001b[K     |████████████████▋               | 133 kB 5.0 MB/s eta 0:00:01\r\u001b[K     |██████████████████              | 143 kB 5.0 MB/s eta 0:00:01\r\u001b[K     |███████████████████▏            | 153 kB 5.0 MB/s eta 0:00:01\r\u001b[K     |████████████████████▌           | 163 kB 5.0 MB/s eta 0:00:01\r\u001b[K     |█████████████████████▊          | 174 kB 5.0 MB/s eta 0:00:01\r\u001b[K     |███████████████████████         | 184 kB 5.0 MB/s eta 0:00:01\r\u001b[K     |████████████████████████▎       | 194 kB 5.0 MB/s eta 0:00:01\r\u001b[K     |█████████████████████████▋      | 204 kB 5.0 MB/s eta 0:00:01\r\u001b[K     |██████████████████████████▉     | 215 kB 5.0 MB/s eta 0:00:01\r\u001b[K     |████████████████████████████▏   | 225 kB 5.0 MB/s eta 0:00:01\r\u001b[K     |█████████████████████████████▍  | 235 kB 5.0 MB/s eta 0:00:01\r\u001b[K     |██████████████████████████████▊ | 245 kB 5.0 MB/s eta 0:00:01\r\u001b[K     |████████████████████████████████| 256 kB 5.0 MB/s eta 0:00:01\r\u001b[K     |████████████████████████████████| 256 kB 5.0 MB/s \n",
            "\u001b[?25hInstalling collected packages: pickle5\n",
            "Successfully installed pickle5-0.0.12\n"
          ]
        }
      ]
    },
    {
      "cell_type": "code",
      "source": [
        "cust_id_file = open('drive/MyDrive/TrainDy/cust_list.npy','rb')\n",
        "cust_id_list = pickle.load(cust_id_file)\n",
        "cust_id_list.shape"
      ],
      "metadata": {
        "colab": {
          "base_uri": "https://localhost:8080/"
        },
        "id": "MFSOMa2CgVhL",
        "outputId": "4a429116-75f5-49f9-c317-7f239983ffe7"
      },
      "execution_count": null,
      "outputs": [
        {
          "output_type": "execute_result",
          "data": {
            "text/plain": [
              "(581186,)"
            ]
          },
          "metadata": {},
          "execution_count": 4
        }
      ]
    },
    {
      "cell_type": "code",
      "source": [
        "prod_id_file = open('drive/MyDrive/TrainDy/prod_list.npy','rb')\n",
        "prod_id_list = pickle.load(prod_id_file)\n",
        "prod_id_list.shape"
      ],
      "metadata": {
        "colab": {
          "base_uri": "https://localhost:8080/"
        },
        "id": "tZH1YZHtKZef",
        "outputId": "222cedf1-3eac-4323-d7f4-caac54368bd5"
      },
      "execution_count": null,
      "outputs": [
        {
          "output_type": "execute_result",
          "data": {
            "text/plain": [
              "(21404,)"
            ]
          },
          "metadata": {},
          "execution_count": 5
        }
      ]
    },
    {
      "cell_type": "code",
      "execution_count": null,
      "metadata": {
        "id": "uxdtWziNACOK"
      },
      "outputs": [],
      "source": [
        "cust_sparse = scipy.sparse.load_npz('drive/MyDrive/TrainDy/cust_purchase_hist_sparse_matrix.npz')\n"
      ]
    },
    {
      "cell_type": "code",
      "source": [
        "file = open(\"drive/MyDrive/TrainDy/cust_18_up.pkl\",'rb')\n",
        "cust_features = pickle.load(file)\n",
        "cust_features = cust_features.fillna(0)"
      ],
      "metadata": {
        "id": "LPQCOmiHM8uT"
      },
      "execution_count": null,
      "outputs": []
    },
    {
      "cell_type": "code",
      "source": [
        "cust_features.head()"
      ],
      "metadata": {
        "id": "gMcxDfhnPyzd"
      },
      "execution_count": null,
      "outputs": []
    },
    {
      "cell_type": "code",
      "execution_count": null,
      "metadata": {
        "id": "EgwKDs_qYSOh"
      },
      "outputs": [],
      "source": [
        "cust_id_to_label = cust_features.loc[:, cust_features.columns == 'customer_id']"
      ]
    },
    {
      "cell_type": "code",
      "source": [
        "cust_features = cust_features.loc[:, (cust_features.columns != 'customer_id') & (cust_features.columns != 'article_id') & (cust_features.columns != 'sales_channel_id')]\n",
        "cust_features = cust_features.to_numpy()\n",
        "cust_features = cust_features[:,:8]\n",
        "print(cust_features[:10])"
      ],
      "metadata": {
        "id": "gFI_8g7jNxKn"
      },
      "execution_count": null,
      "outputs": []
    },
    {
      "cell_type": "code",
      "execution_count": null,
      "metadata": {
        "id": "235X1A2oXmmR",
        "colab": {
          "base_uri": "https://localhost:8080/",
          "height": 295
        },
        "outputId": "d20641cb-a28b-44da-8c41-a9c15292aa38"
      },
      "outputs": [
        {
          "output_type": "display_data",
          "data": {
            "text/plain": [
              "<Figure size 432x288 with 1 Axes>"
            ],
            "image/png": "[encoded data removed]"
          },
          "metadata": {
            "needs_background": "light"
          }
        }
      ],
      "source": [
        "from sklearn.cluster import KMeans\n",
        "import matplotlib.pyplot as plt\n",
        "\n",
        "\n",
        "def elbow_point_plot(cluster, errors):\n",
        "    \"\"\"\n",
        "    This function helps create a plot representing the tradeoff between the\n",
        "    number of clusters and the inertia values.\n",
        "\n",
        "    :param cluster: 1D np array that represents K (the number of clusters)\n",
        "    :param errors: 1D np array that represents the inertia values\n",
        "    \"\"\"\n",
        "    plt.clf()\n",
        "    plt.plot(cluster, errors)\n",
        "    plt.xlabel('Number of Clusters')\n",
        "    plt.ylabel('Inertia')\n",
        "    plt.title('elbow_plot')\n",
        "    plt.show()\n",
        "\n",
        "\n",
        "def sk_learn_cluster(X, K):\n",
        "    \"\"\"\n",
        "    Performs k-means clustering using library functions (scikit-learn). You can\n",
        "    experiment with different initialization settings, but please initialize\n",
        "    without any optional arguments (other than n_clusters) before submitting.\n",
        "\n",
        "    :param X: 2D np array containing features of the songs\n",
        "    :param K: number of clusters\n",
        "    :return: a tuple of (cluster centroids, indices for each data point)\n",
        "    \"\"\"\n",
        "    # TODO:\n",
        "    km = KMeans(n_clusters=K)\n",
        "    res = km.fit(X)\n",
        "\n",
        "    return (res.cluster_centers_, res.labels_, res.inertia_)\n",
        "\n",
        "\n",
        "def min_max_scale(data):\n",
        "    \"\"\"\n",
        "    Pre-processes the data by performing MinMax scaling.\n",
        "\n",
        "    MinMax scaling prevents different scales of the data features from\n",
        "    influencing distance calculations.\n",
        "\n",
        "    MinMax scaling is performed by\n",
        "        X_new = (X - X_min) / (X_max - X_min),\n",
        "\n",
        "    where X_new is the newly scaled value, X_min is the minimum and X_max is the\n",
        "    maximum along a single feature column.\n",
        "\n",
        "    :param data: 2D numpy array of raw data\n",
        "    :return: preprocessed data\n",
        "    \"\"\"\n",
        "    # TODO: Standardize each column's features by subtracting the columns min and\n",
        "    # dividing by the column's max - the column's min\n",
        "    data = (data - np.amin(data,axis=0))/(data.ptp(axis=0) + 1e-5)\n",
        "    return data\n",
        "\n",
        "\n",
        "def one_hot(labels, class_size):\n",
        "    \"\"\"\n",
        "    Create one hot label matrix of size (N, C)\n",
        "\n",
        "    Inputs:\n",
        "    - labels: Labels Tensor of shape (N,) representing a ground-truth label\n",
        "    for each MNIST image\n",
        "    - class_size: Scalar representing of target classes our dataset \n",
        "    Returns:\n",
        "    - targets: One-hot label matrix of (N, C), where targets[i, j] = 1 when \n",
        "    the ground truth label for image i is j, and targets[i, :j] & \n",
        "    targets[i, j + 1:] are equal to 0\n",
        "    \"\"\"\n",
        "    targets = np.zeros((labels.shape[0], class_size))\n",
        "    for i, label in enumerate(labels):\n",
        "        targets[i, label] = 1\n",
        "    targets = tf.convert_to_tensor(targets)\n",
        "    targets = tf.cast(targets, tf.float32)\n",
        "    return targets\n",
        "\n",
        "scaled_data = min_max_scale(cust_features)\n",
        "errors = []\n",
        "k_val = []\n",
        "for i in range(1,10):\n",
        "    cent,ids,inert = sk_learn_cluster(scaled_data,i)\n",
        "    errors.append(inert)\n",
        "    k_val.append(i)\n",
        "\n",
        "elbow_point_plot(k_val,errors)\n"
      ]
    },
    {
      "cell_type": "code",
      "source": [
        "scaled_data = min_max_scale(cust_features)\n",
        "cent, ids, inert = sk_learn_cluster(scaled_data, 5)"
      ],
      "metadata": {
        "id": "5308XonXapTz"
      },
      "execution_count": null,
      "outputs": []
    },
    {
      "cell_type": "code",
      "source": [
        "cust_id_to_label['labels'] = ids"
      ],
      "metadata": {
        "id": "Do15zp1Xa9Ay"
      },
      "execution_count": null,
      "outputs": []
    },
    {
      "cell_type": "code",
      "execution_count": null,
      "metadata": {
        "id": "MlWOPPMGDOr-"
      },
      "outputs": [],
      "source": [
        "from tensorflow.keras import Sequential\n",
        "from tensorflow.keras.layers import Dense, Flatten, Reshape, Activation, Input\n",
        "from tensorflow.math import exp, sqrt, square\n",
        "from tensorflow.keras import regularizers\n",
        "\n",
        "\n",
        "class CVAE(tf.keras.Model):\n",
        "    def __init__(self, input_size, latent_size=15):\n",
        "        super(CVAE, self).__init__()\n",
        "        self.input_size = input_size# H*W\n",
        "        self.latent_size =  latent_size# Z\n",
        "        self.hidden_dim = 1024  # H_d\n",
        "        self.encoder = Sequential(\n",
        "                [\n",
        "        Dense(self.hidden_dim, activation=\"relu\", name=\"layer1\",kernel_regularizer=regularizers.L1L2(l1=1e-5, l2=1e-4),bias_regularizer=regularizers.L2(1e-4),),\n",
        "        Dense(self.hidden_dim, activation=\"relu\", name=\"layer2\",kernel_regularizer=regularizers.L1L2(l1=1e-5, l2=1e-4),bias_regularizer=regularizers.L2(1e-4),),\n",
        "        Dense(self.hidden_dim, activation=\"relu\", name=\"layer3\",kernel_regularizer=regularizers.L1L2(l1=1e-5, l2=1e-4),bias_regularizer=regularizers.L2(1e-4),),\n",
        "    ]\n",
        "        )\n",
        "        self.mu_layer = Dense(self.latent_size, name=\"mu_layer\")\n",
        "        self.logvar_layer = Dense(self.latent_size, name=\"logvar_layer\")\n",
        "        self.decoder = Sequential(\n",
        "                [\n",
        "        Dense(self.hidden_dim, activation=\"relu\", name=\"dec_layer1\",kernel_regularizer=regularizers.L1L2(l1=1e-5, l2=1e-4),bias_regularizer=regularizers.L2(1e-4)),\n",
        "        Dense(self.hidden_dim, activation=\"relu\", name=\"dec_layer2\",kernel_regularizer=regularizers.L1L2(l1=1e-5, l2=1e-4),bias_regularizer=regularizers.L2(1e-4)),\n",
        "        Dense(self.hidden_dim, activation=\"relu\", name=\"dec_layer3\",kernel_regularizer=regularizers.L1L2(l1=1e-5, l2=1e-4),bias_regularizer=regularizers.L2(1e-4)),\n",
        "        Dense(self.input_size, name=\"dec_layer4\", activation='sigmoid'),\n",
        "    ]\n",
        "        )\n",
        "\n",
        "        ############################################################################################\n",
        "        # TODO: Implement the fully-connected encoder architecture described in the notebook.      #\n",
        "        # Specifically, self.encoder should be a network that inputs a batch of input images of    #\n",
        "        # shape (N, 1, H, W) into a batch of hidden features of shape (N, H_d). Set up             #\n",
        "        # self.mu_layer and self.logvar_layer to be a pair of linear layers that map the hidden    #\n",
        "        # features into estimates of the mean and log-variance of the posterior over the latent    #\n",
        "        # vectors; the mean and log-variance estimates will both be tensors of shape (N, Z).       #\n",
        "        ############################################################################################\n",
        "        # Replace \"pass\" statement with your code\n",
        "\n",
        "        ############################################################################################\n",
        "        # TODO: Implement the fully-connected decoder architecture described in the notebook.      #\n",
        "        # Specifically, self.decoder should be a network that inputs a batch of latent vectors of  #\n",
        "        # shape (N, Z) and outputs a tensor of estimated images of shape (N, 1, H, W).             #\n",
        "        ############################################################################################\n",
        "        # Replace \"pass\" statement with your code\n",
        "\n",
        "        ############################################################################################\n",
        "        #                                      END OF YOUR CODE                                    #\n",
        "        ############################################################################################\n",
        "\n",
        "    def call(self, x,c):\n",
        "        \"\"\"\n",
        "        Performs forward pass through FC-VAE model by passing image through \n",
        "        encoder, reparametrize trick, and decoder models\n",
        "    \n",
        "        Inputs:\n",
        "        - x: Batch of input images of shape (N, 1, H, W)\n",
        "        \n",
        "        Returns:\n",
        "        - x_hat: Reconstruced input data of shape (N,1,H,W)\n",
        "        - mu: Matrix representing estimated posterior mu (N, Z), with Z latent space dimension\n",
        "        - logvar: Matrix representing estimataed variance in log-space (N, Z), with Z latent space dimension\n",
        "        \"\"\"\n",
        "        x_hat = None\n",
        "        mu = None\n",
        "        logvar = None\n",
        "        ############################################################################################\n",
        "        # TODO: Implement the forward pass by following these steps                                #\n",
        "        # (1) Pass the input batch through the encoder model to get posterior mu and logvariance   #\n",
        "        # (2) Reparametrize to compute  the latent vector z                                        #\n",
        "        # (3) Pass z through the decoder to resconstruct x                                         #\n",
        "        ############################################################################################\n",
        "        # Replace \"pass\" statement with your code\n",
        "        \n",
        "        x_hat = None\n",
        "        mu = None\n",
        "        logvar = None\n",
        "        \n",
        "        x = tf.cast(x, tf.float32)\n",
        "        conditioned_x = tf.concat([x,c],axis = 1)\n",
        "        encoded_input = self.encoder(conditioned_x)\n",
        "        mu = self.mu_layer(encoded_input)\n",
        "        logvar = self.logvar_layer(encoded_input)\n",
        "        z = reparametrize(mu, logvar)\n",
        "        conditioned_z = tf.concat([z,c],axis = 1)\n",
        "        x_hat = self.decoder(conditioned_z)\n",
        "\n",
        "        ############################################################################################\n",
        "        #                                      END OF YOUR CODE                                    #\n",
        "        ############################################################################################\n",
        "        return x_hat, mu, logvar\n",
        "\n",
        "\n",
        "\n",
        "def reparametrize(mu, logvar):\n",
        "    \"\"\"\n",
        "    Differentiably sample random Gaussian data with specified mean and variance using the\n",
        "    reparameterization trick.\n",
        "\n",
        "    Suppose we want to sample a random number z from a Gaussian distribution with mean mu and\n",
        "    standard deviation sigma, such that we can backpropagate from the z back to mu and sigma.\n",
        "    We can achieve this by first sampling a random value epsilon from a standard Gaussian\n",
        "    distribution with zero mean and unit variance, then setting z = sigma * epsilon + mu.\n",
        "\n",
        "    For more stable training when integrating this function into a neural network, it helps to\n",
        "    pass this function the log of the variance of the distribution from which to sample, rather\n",
        "    than specifying the standard deviation directly.\n",
        "\n",
        "    Inputs:\n",
        "    - mu: Tensor of shape (N, Z) giving means\n",
        "    - logvar: Tensor of shape (N, Z) giving log-variances\n",
        "\n",
        "    Returns: \n",
        "    - z: Estimated latent vectors, where z[i, j] is a random value sampled from a Gaussian with\n",
        "         mean mu[i, j] and log-variance logvar[i, j].\n",
        "    \"\"\"\n",
        "    epsilon = tf.random.normal([mu.shape[0],mu.shape[1]])\n",
        "    sigma = tf.math.sqrt(tf.math.exp(logvar))\n",
        "    z = sigma * epsilon + mu\n",
        "    return z\n",
        "\n",
        "\n",
        "\n",
        "def bce_function(x_hat, x):\n",
        "    \"\"\"\n",
        "    Computes the reconstruction loss of the VAE.\n",
        "    \n",
        "    Inputs:\n",
        "    - x_hat: Reconstructed input data of shape (N, 1, H, W)\n",
        "    - x: Input data for this timestep of shape (N, 1, H, W)\n",
        "    \n",
        "    Returns:\n",
        "    - reconstruction_loss: Tensor containing the scalar loss for the reconstruction loss term.\n",
        "    \"\"\"\n",
        "    bce_fn = tf.keras.losses.BinaryCrossentropy(\n",
        "        from_logits=False, \n",
        "        reduction=tf.keras.losses.Reduction.SUM,\n",
        "    )\n",
        "    reconstruction_loss = bce_fn(x, x_hat) * x.shape[-1]  # Sum over all loss terms for each data point. This looks weird, but we need this to work...\n",
        "    return reconstruction_loss\n",
        "\n",
        "def loss_function(x_hat, x, mu, logvar):\n",
        "    \"\"\"\n",
        "    Computes the negative variational lower bound loss term of the VAE (refer to formulation in notebook).\n",
        "    Returned loss is the average loss per sample in the current batch.\n",
        "\n",
        "    Inputs:\n",
        "    - x_hat: Reconstructed input data of shape (N, 1, H, W)\n",
        "    - x: Input data for this timestep of shape (N, 1, H, W)\n",
        "    - mu: Matrix representing estimated posterior mu (N, Z), with Z latent space dimension\n",
        "    - logvar: Matrix representing estimated variance in log-space (N, Z), with Z latent space dimension\n",
        "    \n",
        "    Returns:\n",
        "    - loss: Tensor containing the scalar loss for the negative variational lowerbound\n",
        "    \"\"\"\n",
        "    #reconstruction_loss = bce_function(x_hat, x)\n",
        "    kl_divergence = -0.5 * tf.reduce_sum(1 + logvar - tf.square(mu) - tf.exp(logvar))\n",
        "    csim = tf.keras.losses.CosineSimilarity()\n",
        "    loss = 30*csim(x,x_hat)+kl_divergence\n",
        "    \n",
        "    ################################################################################################\n",
        "    # TODO: Compute negative variational lowerbound loss as described in the notebook              #\n",
        "    ################################################################################################\n",
        "    # Replace \"pass\" statement with your code\n",
        "    \n",
        "    ################################################################################################\n",
        "    #                            END OF YOUR CODE                                                  #\n",
        "    ################################################################################################\n",
        "    return loss/x.shape[0]\n"
      ]
    },
    {
      "cell_type": "code",
      "execution_count": null,
      "metadata": {
        "id": "gHh-i9ESE4fL",
        "colab": {
          "base_uri": "https://localhost:8080/"
        },
        "outputId": "4e9349a7-f272-42b5-a02d-406b91d5e5af"
      },
      "outputs": [
        {
          "output_type": "stream",
          "name": "stdout",
          "text": [
            "tf.Tensor([0.99993825 0.9529606  0.9731382  ... 0.5092013  0.24263722 0.79343534], shape=(21404,), dtype=float32)\n",
            "Train Epoch: 0    Loss: tf.Tensor(0.0007572991, shape=(), dtype=float32)\n",
            "tf.Tensor([0.99999976 0.20748478 0.98411477 ... 0.07657436 0.04560762 0.26737702], shape=(21404,), dtype=float32)\n",
            "Train Epoch: 1    Loss: tf.Tensor(-0.0011165268, shape=(), dtype=float32)\n",
            "tf.Tensor([0.9999994  0.28702718 0.5979698  ... 0.07381888 0.03005882 0.25583845], shape=(21404,), dtype=float32)\n",
            "Train Epoch: 2    Loss: tf.Tensor(-0.0012417742, shape=(), dtype=float32)\n",
            "tf.Tensor([0.99999094 0.18002075 0.21014291 ... 0.06587173 0.0335303  0.24045797], shape=(21404,), dtype=float32)\n",
            "Train Epoch: 3    Loss: tf.Tensor(-0.0012997994, shape=(), dtype=float32)\n",
            "tf.Tensor([0.9999465  0.20805258 0.31651577 ... 0.05931315 0.03921026 0.22707179], shape=(21404,), dtype=float32)\n",
            "Train Epoch: 4    Loss: tf.Tensor(-0.001343618, shape=(), dtype=float32)\n",
            "tf.Tensor([0.99995935 0.16916797 0.20830067 ... 0.03794413 0.02557126 0.17815848], shape=(21404,), dtype=float32)\n",
            "Train Epoch: 5    Loss: tf.Tensor(-0.0013814719, shape=(), dtype=float32)\n",
            "tf.Tensor([0.9998895  0.15207875 0.2537086  ... 0.05069198 0.0265574  0.15752941], shape=(21404,), dtype=float32)\n",
            "Train Epoch: 6    Loss: tf.Tensor(-0.0014141101, shape=(), dtype=float32)\n",
            "tf.Tensor([0.9998932  0.10996412 0.22050537 ... 0.04041324 0.02010559 0.11594258], shape=(21404,), dtype=float32)\n",
            "Train Epoch: 7    Loss: tf.Tensor(-0.0014404703, shape=(), dtype=float32)\n",
            "tf.Tensor([0.9997204  0.13921733 0.20727204 ... 0.0374652  0.02346941 0.13034171], shape=(21404,), dtype=float32)\n",
            "Train Epoch: 8    Loss: tf.Tensor(-0.0014667244, shape=(), dtype=float32)\n",
            "tf.Tensor([0.9989655  0.14795393 0.20188381 ... 0.04669356 0.02938864 0.13084707], shape=(21404,), dtype=float32)\n",
            "Train Epoch: 9    Loss: tf.Tensor(-0.0014880383, shape=(), dtype=float32)\n"
          ]
        }
      ],
      "source": [
        "def convert_sparse_matrix_to_sparse_tensor(X):\n",
        "    X = sparse.csr_matrix(X)  \n",
        "    coo = X.tocoo()\n",
        "    indices = np.mat([coo.row, coo.col]).transpose()\n",
        "    return tf.SparseTensor(indices, coo.data, coo.shape)\n",
        "\n",
        "def train_vae(model, X, is_cvae=False):\n",
        "    \"\"\"\n",
        "    Train your VAE with one epoch.\n",
        "\n",
        "    Inputs:\n",
        "    - model: Your VAE instance.\n",
        "    - train_loader: A tf.data.Dataset of MNIST dataset.\n",
        "    - args: All arguments.\n",
        "    - is_cvae: A boolean flag for Conditional-VAE. If your model is a Conditional-VAE,\n",
        "    set is_cvae=True. If it's a Vanilla-VAE, set is_cvae=False.\n",
        "\n",
        "    Returns:\n",
        "    - total_loss: Sum of loss values of all batches.\n",
        "    \"\"\"\n",
        "    total_loss = 0\n",
        "    optimizer = tf.keras.optimizers.Adam(learning_rate=0.001)\n",
        "    for batch in range(50):\n",
        "        batch_inputs = cust_sparse[batch*1000:1000*batch +1000,:].toarray()\n",
        "        batch_labels_id = cust_id_list[batch*1000:1000*batch +1000]\n",
        "        batch_labels = one_hot(cust_id_to_label[cust_id_to_label['customer_id'].isin(batch_labels_id)]['labels'].to_numpy(),5)\n",
        "        with tf.GradientTape() as tape:\n",
        "            if not is_cvae:\n",
        "                x_hat, mu, logvar = model.call(batch_inputs, batch_labels)\n",
        "                batch_inputs = tf.cast(batch_inputs, tf.float32)\n",
        "            loss = loss_function(x_hat, batch_inputs, mu, logvar)\n",
        "            total_loss += loss\n",
        "        \n",
        "        gradients = tape.gradient(loss,model.trainable_variables)\n",
        "        optimizer.apply_gradients(zip(gradients,model.trainable_variables))\n",
        "    print(x_hat[0])\n",
        "\n",
        "    return total_loss\n",
        "\n",
        "\n",
        "\n",
        "model = CVAE(21404, latent_size=512)\n",
        "\n",
        "for epoch_id in range(10):\n",
        "    total_loss = train_vae(model, cust_sparse, is_cvae=False)\n",
        "    #print(f\"Train Epoch: {epoch_id} \\tLoss: {total_loss/len(train_dataset):.6f}\")\n",
        "    print(\"Train Epoch: \" + str(epoch_id) + '    Loss: ' + str(total_loss/50))"
      ]
    },
    {
      "cell_type": "code",
      "source": [
        "model.save_weights(\"my_model_3.h5\")"
      ],
      "metadata": {
        "id": "k4KLWPhn3wuY"
      },
      "execution_count": null,
      "outputs": []
    },
    {
      "cell_type": "code",
      "execution_count": null,
      "metadata": {
        "id": "3W8pVluYHTEX",
        "colab": {
          "base_uri": "https://localhost:8080/"
        },
        "outputId": "47d74dd4-6bfc-45ee-c118-f44ae2fb3dfb"
      },
      "outputs": [
        {
          "output_type": "stream",
          "name": "stdout",
          "text": [
            "[0.9996847  0.10322639 0.18288785 ... 0.02937494 0.01800176 0.09993609]\n",
            "166\n"
          ]
        }
      ],
      "source": [
        "\n",
        "def predict(cust_id, model, latent_size):\n",
        "    \"\"\"\n",
        "    Call this only if the model is VAE!\n",
        "    Generate 10 images from random vectors.\n",
        "    Show the generated images from your trained VAE.\n",
        "    Image will be saved to outputs/show_vae_images.pdf\n",
        "\n",
        "    Inputs:\n",
        "    - model: Your trained model.\n",
        "    - latent_size: Latent size of your model.\n",
        "    \"\"\"\n",
        "    # Generated images from vectors of random values.\n",
        "\n",
        "    num_generation = 5\n",
        "    num_classes = 5\n",
        "    num_per_class = num_generation // num_classes\n",
        "    c = tf.eye(num_classes) # [one hot labels for 0-9]\n",
        "    z = []\n",
        "    label = cust_id_to_label[cust_id_to_label['customer_id']==cust_id]['labels'].to_numpy()[0]\n",
        "    curr_c = c[label]\n",
        "    curr_c = tf.broadcast_to(curr_c, [num_per_class, len(curr_c)])\n",
        "    curr_z = tf.random.normal(shape=[num_per_class,latent_size])\n",
        "    curr_z = tf.concat([curr_z,curr_c], axis=-1)\n",
        "    z.append(curr_z)\n",
        "    z = np.concatenate(z)\n",
        "    samples = model.decoder(z).numpy()\n",
        "    return np.array(samples[0])\n",
        "\n",
        "\n",
        "def get_top_n_products(n, pred):\n",
        "    pred[pred>0.5] = 1\n",
        "    pred[pred<=0.5] = 0\n",
        "    indices = np.where(pred==1)\n",
        "    recommended_prod_ids = prod_id_list[indices]\n",
        "    return recommended_prod_ids\n",
        "      \n",
        "\n",
        "pred = predict('00000dbacae5abe5e23885899a1fa44253a17956c6d1c3d25f88aa139fdfc657', model, 512)\n",
        "print(pred)\n",
        "top_rec = get_top_n_products(20,pred)\n",
        "print(len(top_rec))"
      ]
    },
    {
      "cell_type": "code",
      "source": [
        "transact_2019 = open('/content/drive/MyDrive/TrainDy/TAC_19.pkl', 'rb')\n",
        "transactions_data = pickle.load(transact_2019)"
      ],
      "metadata": {
        "id": "tone53L6imNH"
      },
      "execution_count": null,
      "outputs": []
    },
    {
      "cell_type": "code",
      "source": [
        "transactions_data.head()"
      ],
      "metadata": {
        "id": "dR-VUQHTlPrJ"
      },
      "execution_count": null,
      "outputs": []
    },
    {
      "cell_type": "code",
      "source": [
        "transactions_data = transactions_data[transactions_data['customer_id'].isin(cust_id_list)]\n",
        "transactions_data.head()"
      ],
      "metadata": {
        "id": "NnamKbK0lg_N",
        "colab": {
          "base_uri": "https://localhost:8080/",
          "height": 206
        },
        "outputId": "790796a1-8d40-4064-dde9-a919cff615dd"
      },
      "execution_count": null,
      "outputs": [
        {
          "output_type": "execute_result",
          "data": {
            "text/plain": [
              "                                               customer_id  product_code\n",
              "4411262  0005f3aab821000881d74b72fde2d9b3e4742cf8613668...        304766\n",
              "4411265  000ca60ca6d8de6d3b4689e2da829d69db5947bd89084c...        662916\n",
              "4411266  000ca60ca6d8de6d3b4689e2da829d69db5947bd89084c...        740909\n",
              "4411267  001ea5b25c75e6490705b22abb670e08007967c631a4c5...        666382\n",
              "4411270  00497856651e5483f26917703886e95c6e299a74928740...        665532"
            ],
            "text/html": [
              "\n",
              "  <div id=\"df-7617291c-ad00-4367-a45f-67cef00a06d7\">\n",
              "    <div class=\"colab-df-container\">\n",
              "      <div>\n",
              "<style scoped>\n",
              "    .dataframe tbody tr th:only-of-type {\n",
              "        vertical-align: middle;\n",
              "    }\n",
              "\n",
              "    .dataframe tbody tr th {\n",
              "        vertical-align: top;\n",
              "    }\n",
              "\n",
              "    .dataframe thead th {\n",
              "        text-align: right;\n",
              "    }\n",
              "</style>\n",
              "<table border=\"1\" class=\"dataframe\">\n",
              "  <thead>\n",
              "    <tr style=\"text-align: right;\">\n",
              "      <th></th>\n",
              "      <th>customer_id</th>\n",
              "      <th>product_code</th>\n",
              "    </tr>\n",
              "  </thead>\n",
              "  <tbody>\n",
              "    <tr>\n",
              "      <th>4411262</th>\n",
              "      <td>0005f3aab821000881d74b72fde2d9b3e4742cf8613668...</td>\n",
              "      <td>304766</td>\n",
              "    </tr>\n",
              "    <tr>\n",
              "      <th>4411265</th>\n",
              "      <td>000ca60ca6d8de6d3b4689e2da829d69db5947bd89084c...</td>\n",
              "      <td>662916</td>\n",
              "    </tr>\n",
              "    <tr>\n",
              "      <th>4411266</th>\n",
              "      <td>000ca60ca6d8de6d3b4689e2da829d69db5947bd89084c...</td>\n",
              "      <td>740909</td>\n",
              "    </tr>\n",
              "    <tr>\n",
              "      <th>4411267</th>\n",
              "      <td>001ea5b25c75e6490705b22abb670e08007967c631a4c5...</td>\n",
              "      <td>666382</td>\n",
              "    </tr>\n",
              "    <tr>\n",
              "      <th>4411270</th>\n",
              "      <td>00497856651e5483f26917703886e95c6e299a74928740...</td>\n",
              "      <td>665532</td>\n",
              "    </tr>\n",
              "  </tbody>\n",
              "</table>\n",
              "</div>\n",
              "      <button class=\"colab-df-convert\" onclick=\"convertToInteractive('df-7617291c-ad00-4367-a45f-67cef00a06d7')\"\n",
              "              title=\"Convert this dataframe to an interactive table.\"\n",
              "              style=\"display:none;\">\n",
              "        \n",
              "  <svg xmlns=\"http://www.w3.org/2000/svg\" height=\"24px\"viewBox=\"0 0 24 24\"\n",
              "       width=\"24px\">\n",
              "    <path d=\"M0 0h24v24H0V0z\" fill=\"none\"/>\n",
              "    <path d=\"M18.56 5.44l.94 2.06.94-2.06 2.06-.94-2.06-.94-.94-2.06-.94 2.06-2.06.94zm-11 1L8.5 8.5l.94-2.06 2.06-.94-2.06-.94L8.5 2.5l-.94 2.06-2.06.94zm10 10l.94 2.06.94-2.06 2.06-.94-2.06-.94-.94-2.06-.94 2.06-2.06.94z\"/><path d=\"M17.41 7.96l-1.37-1.37c-.4-.4-.92-.59-1.43-.59-.52 0-1.04.2-1.43.59L10.3 9.45l-7.72 7.72c-.78.78-.78 2.05 0 2.83L4 21.41c.39.39.9.59 1.41.59.51 0 1.02-.2 1.41-.59l7.78-7.78 2.81-2.81c.8-.78.8-2.07 0-2.86zM5.41 20L4 18.59l7.72-7.72 1.47 1.35L5.41 20z\"/>\n",
              "  </svg>\n",
              "      </button>\n",
              "      \n",
              "  <style>\n",
              "    .colab-df-container {\n",
              "      display:flex;\n",
              "      flex-wrap:wrap;\n",
              "      gap: 12px;\n",
              "    }\n",
              "\n",
              "    .colab-df-convert {\n",
              "      background-color: #E8F0FE;\n",
              "      border: none;\n",
              "      border-radius: 50%;\n",
              "      cursor: pointer;\n",
              "      display: none;\n",
              "      fill: #1967D2;\n",
              "      height: 32px;\n",
              "      padding: 0 0 0 0;\n",
              "      width: 32px;\n",
              "    }\n",
              "\n",
              "    .colab-df-convert:hover {\n",
              "      background-color: #E2EBFA;\n",
              "      box-shadow: 0px 1px 2px rgba(60, 64, 67, 0.3), 0px 1px 3px 1px rgba(60, 64, 67, 0.15);\n",
              "      fill: #174EA6;\n",
              "    }\n",
              "\n",
              "    [theme=dark] .colab-df-convert {\n",
              "      background-color: #3B4455;\n",
              "      fill: #D2E3FC;\n",
              "    }\n",
              "\n",
              "    [theme=dark] .colab-df-convert:hover {\n",
              "      background-color: #434B5C;\n",
              "      box-shadow: 0px 1px 3px 1px rgba(0, 0, 0, 0.15);\n",
              "      filter: drop-shadow(0px 1px 2px rgba(0, 0, 0, 0.3));\n",
              "      fill: #FFFFFF;\n",
              "    }\n",
              "  </style>\n",
              "\n",
              "      <script>\n",
              "        const buttonEl =\n",
              "          document.querySelector('#df-7617291c-ad00-4367-a45f-67cef00a06d7 button.colab-df-convert');\n",
              "        buttonEl.style.display =\n",
              "          google.colab.kernel.accessAllowed ? 'block' : 'none';\n",
              "\n",
              "        async function convertToInteractive(key) {\n",
              "          const element = document.querySelector('#df-7617291c-ad00-4367-a45f-67cef00a06d7');\n",
              "          const dataTable =\n",
              "            await google.colab.kernel.invokeFunction('convertToInteractive',\n",
              "                                                     [key], {});\n",
              "          if (!dataTable) return;\n",
              "\n",
              "          const docLinkHtml = 'Like what you see? Visit the ' +\n",
              "            '<a target=\"_blank\" href=https://colab.research.google.com/notebooks/data_table.ipynb>data table notebook</a>'\n",
              "            + ' to learn more about interactive tables.';\n",
              "          element.innerHTML = '';\n",
              "          dataTable['output_type'] = 'display_data';\n",
              "          await google.colab.output.renderOutput(dataTable, element);\n",
              "          const docLink = document.createElement('div');\n",
              "          docLink.innerHTML = docLinkHtml;\n",
              "          element.appendChild(docLink);\n",
              "        }\n",
              "      </script>\n",
              "    </div>\n",
              "  </div>\n",
              "  "
            ]
          },
          "metadata": {},
          "execution_count": 64
        }
      ]
    },
    {
      "cell_type": "code",
      "source": [
        "unique_ret_cust = transactions_data['customer_id'].unique()"
      ],
      "metadata": {
        "id": "w3qCixnVAbt2"
      },
      "execution_count": null,
      "outputs": []
    },
    {
      "cell_type": "code",
      "source": [
        "recall = 0\n",
        "count = 0\n",
        "for c in unique_ret_cust[:100]:\n",
        "  print(count)\n",
        "  count+=1\n",
        "  pred = predict(c, model, 512)\n",
        "  top_rec = get_top_n_products(20,pred)\n",
        "  # print(\"Number of products she purchased: \",transactions_data[(transactions_data['customer_id']==c)].shape[0])\n",
        "  a = transactions_data[(transactions_data['customer_id']==c)].shape[0]\n",
        "  # print(\"Number of products matched: \",transactions_data[(transactions_data['customer_id']==c)& (transactions_data['product_code'].isin(top_rec))].shape[0])\n",
        "  b = transactions_data[(transactions_data['customer_id']==c)&(transactions_data['product_code'].isin(top_rec))].shape[0]\n",
        "  print(b,len(top_rec))\n",
        "  if b>0:\n",
        "    recall += 1\n",
        "\n",
        "  "
      ],
      "metadata": {
        "id": "6k8emhyAm9cW",
        "colab": {
          "base_uri": "https://localhost:8080/"
        },
        "outputId": "8ed0acdc-f3fd-41c8-b111-84b52907efa2"
      },
      "execution_count": null,
      "outputs": [
        {
          "output_type": "stream",
          "name": "stdout",
          "text": [
            "0\n",
            "0 163\n",
            "1\n",
            "0 164\n",
            "2\n",
            "1 166\n",
            "3\n",
            "3 164\n",
            "4\n",
            "0 164\n",
            "5\n",
            "0 163\n",
            "6\n",
            "6 168\n",
            "7\n",
            "0 167\n",
            "8\n",
            "11 167\n",
            "9\n",
            "3 166\n",
            "10\n",
            "2 167\n",
            "11\n",
            "2 165\n",
            "12\n",
            "0 165\n",
            "13\n",
            "0 168\n",
            "14\n",
            "1 164\n",
            "15\n",
            "3 164\n",
            "16\n",
            "12 163\n",
            "17\n",
            "3 165\n",
            "18\n",
            "6 169\n",
            "19\n",
            "0 166\n",
            "20\n",
            "0 164\n",
            "21\n",
            "6 167\n",
            "22\n",
            "0 165\n",
            "23\n",
            "1 162\n",
            "24\n",
            "4 165\n",
            "25\n",
            "4 165\n",
            "26\n",
            "2 163\n",
            "27\n",
            "12 167\n",
            "28\n",
            "4 164\n",
            "29\n",
            "2 167\n",
            "30\n",
            "0 166\n",
            "31\n",
            "0 169\n",
            "32\n",
            "4 166\n",
            "33\n",
            "4 168\n",
            "34\n",
            "2 167\n",
            "35\n",
            "2 164\n",
            "36\n",
            "1 166\n",
            "37\n",
            "1 166\n",
            "38\n",
            "4 168\n",
            "39\n",
            "9 165\n",
            "40\n",
            "1 165\n",
            "41\n",
            "0 165\n",
            "42\n",
            "1 165\n",
            "43\n",
            "8 166\n",
            "44\n",
            "0 166\n",
            "45\n",
            "3 168\n",
            "46\n",
            "0 166\n",
            "47\n",
            "9 165\n",
            "48\n",
            "1 167\n",
            "49\n",
            "4 167\n",
            "50\n",
            "1 165\n",
            "51\n",
            "3 166\n",
            "52\n",
            "1 165\n",
            "53\n",
            "1 165\n",
            "54\n",
            "6 167\n",
            "55\n",
            "1 164\n",
            "56\n",
            "0 163\n",
            "57\n",
            "2 166\n",
            "58\n",
            "8 163\n",
            "59\n",
            "0 165\n",
            "60\n",
            "14 164\n",
            "61\n",
            "1 162\n",
            "62\n",
            "0 164\n",
            "63\n",
            "1 166\n",
            "64\n",
            "9 164\n",
            "65\n",
            "0 165\n",
            "66\n",
            "16 163\n",
            "67\n",
            "8 168\n",
            "68\n",
            "2 166\n",
            "69\n",
            "2 169\n",
            "70\n",
            "0 163\n",
            "71\n",
            "7 164\n",
            "72\n",
            "0 164\n",
            "73\n",
            "0 166\n",
            "74\n",
            "5 167\n",
            "75\n",
            "2 167\n",
            "76\n",
            "0 165\n",
            "77\n",
            "2 167\n",
            "78\n",
            "3 165\n",
            "79\n",
            "0 162\n",
            "80\n",
            "2 167\n",
            "81\n",
            "0 165\n",
            "82\n",
            "5 166\n",
            "83\n",
            "1 168\n",
            "84\n",
            "4 166\n",
            "85\n",
            "4 165\n",
            "86\n",
            "6 166\n",
            "87\n",
            "9 163\n",
            "88\n",
            "3 163\n",
            "89\n",
            "1 165\n",
            "90\n",
            "13 165\n",
            "91\n",
            "0 165\n",
            "92\n",
            "2 166\n",
            "93\n",
            "11 167\n",
            "94\n",
            "0 164\n",
            "95\n",
            "3 165\n",
            "96\n",
            "3 165\n",
            "97\n",
            "5 165\n",
            "98\n",
            "2 166\n",
            "99\n",
            "2 163\n"
          ]
        }
      ]
    },
    {
      "cell_type": "code",
      "source": [
        "print(recall)\n",
        "success_score = recall/100\n",
        "print(success_score)"
      ],
      "metadata": {
        "id": "zomo_2vi9FPY",
        "colab": {
          "base_uri": "https://localhost:8080/"
        },
        "outputId": "d1b2a6a5-03e8-4af4-cba6-6335e4431df6"
      },
      "execution_count": null,
      "outputs": [
        {
          "output_type": "stream",
          "name": "stdout",
          "text": [
            "73\n",
            "0.73\n"
          ]
        }
      ]
    },
    {
      "cell_type": "markdown",
      "source": [
        "# CROSS VALIDATION"
      ],
      "metadata": {
        "id": "aQk7R9vZ-Xfc"
      }
    },
    {
      "cell_type": "code",
      "source": [
        "from sklearn.model_selection import KFold"
      ],
      "metadata": {
        "id": "1EXEHraP-Dal"
      },
      "execution_count": null,
      "outputs": []
    },
    {
      "cell_type": "code",
      "source": [
        "kfold = KFold(10, True, 1)\n",
        "for _ in cust_id_list.shape[0]/10:\n",
        "  for train_ind, test_ind in kfold.split(len(cust_sparse)):\n",
        "    train = cust_sparse[train_ind].toarray()\n",
        "    test = unique_ret_cust[test_ind]\n",
        "    for epoch_id in range(10):\n",
        "      total_loss = train_vae(model, train, is_cvae=False)\n",
        "      #print(f\"Train Epoch: {epoch_id} \\tLoss: {total_loss/len(train_dataset):.6f}\")\n",
        "      print(\"Train Epoch: \" + str(epoch_id) + '    Loss: ' + str(total_loss/50))\n",
        "    for c in test:\n",
        "      pred = predict(c, model, 512)\n",
        "      top_rec = get_top_n_products(20,pred)\n",
        "      a = transactions_data[(transactions_data['customer_id']==c)].shape[0]\n",
        "      b = transactions_data[(transactions_data['customer_id']==c)&(transactions_data['product_code'].isin(top_rec))].shape[0]\n",
        "      print(b,len(top_rec))\n",
        "      if b>0:\n",
        "        recall += 1\n",
        "    success_score = recall/len(test)\n"
      ],
      "metadata": {
        "id": "Yr7QyTQqiWZW"
      },
      "execution_count": null,
      "outputs": []
    }
  ],
  "metadata": {
    "colab": {
      "collapsed_sections": [],
      "name": "sparse_matrix.ipynb",
      "provenance": []
    },
    "kernelspec": {
      "display_name": "Python 3",
      "name": "python3"
    },
    "language_info": {
      "name": "python"
    },
    "accelerator": "GPU"
  },
  "nbformat": 4,
  "nbformat_minor": 0
}